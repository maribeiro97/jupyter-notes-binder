{
 "cells": [
  {
   "cell_type": "code",
   "execution_count": 10,
   "metadata": {},
   "outputs": [],
   "source": [
    "import scipy.constants as sci\n",
    "import numpy as np"
   ]
  },
  {
   "cell_type": "markdown",
   "metadata": {},
   "source": [
    "Para obtener la rotación de la onda EM al pasar por el plasma podemos calcular la razón entre las componentes $x$ e $y$ del campo eléctrico $\\vec{E}$, partiendo de la relación de Appleton-Hartree, llegando a (según *I.H. Hutchinson: Principles of Plasma Diagnostics*):\n",
    "$$\\frac{E_x}{E_y} = \\frac{i Y \\sin^2\\theta}{2(1-X) \\cos\\theta} \\pm i \\left[ 1 + \\frac{Y^2 \\sin^4\\theta}{4(1-X)^2 \\cos^2 \\theta} \\right]^{1/2} $$  \n",
    "\n",
    "Luego la rotación total que induce el plasma sobre la onda incidente sera:\n",
    "$$ \\alpha = \\frac{\\Delta \\phi}{2} = \\frac{e}{2 m_e c} \\int_A^B{\\frac{n_e \\vec{B} \\cdot \\vec{dl}}{n_c (1 - n_e / n_c)^{1/2}}} $$\n",
    "\n",
    "Donde la densidad crítica estaba dada por $n_c = \\omega^2 m \\epsilon_0 / e^2$. Y si consideramos $\\frac{n_e}{n_c} \\ll 1$, la expresión anterior se nos simplifica a:\n",
    "$$ \\alpha \\approx \\frac{e}{2 m_e c} \\int_A^B{ \\frac{n_e}{n_c} \\vec{B} \\cdot \\vec{dl}} $$\n",
    "\n",
    "Calculemos la constante que acompaña a la integral:"
   ]
  },
  {
   "cell_type": "code",
   "execution_count": 11,
   "metadata": {},
   "outputs": [
    {
     "name": "stdout",
     "output_type": "stream",
     "text": [
      "2.631e-13\n"
     ]
    }
   ],
   "source": [
    "def acc_constant():\n",
    "    fake_crit_density = sci.m_e * sci.epsilon_0 / sci.e ** 2 * (2 * sci.pi * sci.c) ** 2\n",
    "    constant_out = sci.e / (2 * sci.m_e * sci.c)\n",
    "    return constant_out / fake_crit_density\n",
    "\n",
    "print(f\"{acc_constant():.3e}\")\n"
   ]
  },
  {
   "cell_type": "markdown",
   "metadata": {},
   "source": [
    "Entonces, usando este valor en la ecuación para $\\alpha$, simplfiquemos el calculo del ángulo de rotación de Faraday: \n",
    "$$ \\alpha \\approx 2.631 \\times 10^{-13} \\cdot  \\lambda^2 \\int_A^B{n_e \\vec{B} \\cdot \\vec{dl}} $$"
   ]
  },
  {
   "cell_type": "code",
   "execution_count": 12,
   "metadata": {},
   "outputs": [],
   "source": [
    "def faraday_rotation(laser_wavelen, eon_density, mag_field, path_len):\n",
    "    \"\"\"\n",
    "    laser_wavelen: float\n",
    "    eon_density: float\n",
    "    mag_field: array (3d vector)\n",
    "    path_len: array (3d vector)\n",
    "    \"\"\"\n",
    "    constant = acc_constant()\n",
    "    angle_rotation = constant * laser_wavelen ** 2 * eon_density * np.dot(mag_field, path_len)\n",
    "    return angle_rotation\n",
    "    \n",
    "green_wavelen = 532 * 10 ** -9\n",
    "visible_spectrum = np.array([400 * 10 ** -9, 700 * 10 ** -9])\n",
    "wavelens = np.linspace(visible_spectrum[0], visible_spectrum[1], 10 ** 5)\n",
    "mag_field = np.array([0.0, 0.0, 1.0])\n",
    "path_len = 2.0 * 10 ** -3\n",
    "densities_range = np.array([10 ** 18, 10 ** 24])\n",
    "eon_densities = np.linspace(densities_range[0], densities_range[1], 10 ** 5)\n",
    "[faraday_rotation() for den in eon_densities ]\n"
   ]
  }
 ],
 "metadata": {
  "kernelspec": {
   "display_name": "Python 3",
   "language": "python",
   "name": "python3"
  },
  "language_info": {
   "codemirror_mode": {
    "name": "ipython",
    "version": 3
   },
   "file_extension": ".py",
   "mimetype": "text/x-python",
   "name": "python",
   "nbconvert_exporter": "python",
   "pygments_lexer": "ipython3",
   "version": "3.10.12"
  }
 },
 "nbformat": 4,
 "nbformat_minor": 2
}
